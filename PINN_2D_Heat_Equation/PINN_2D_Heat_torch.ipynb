{
 "cells": [
  {
   "cell_type": "markdown",
   "metadata": {},
   "source": [
    "# Solving 2D heat equation using PINN (PyTorch)"
   ]
  },
  {
   "cell_type": "markdown",
   "metadata": {},
   "source": [
    "<img src=\"../images/2D_heat_eq.png\" width=\"35%\">"
   ]
  },
  {
   "cell_type": "code",
   "execution_count": 1,
   "metadata": {},
   "outputs": [],
   "source": [
    "import torch\n",
    "import torch.nn as nn\n",
    "import torch.optim as optim\n",
    "import numpy as np\n",
    "import matplotlib.pyplot as plt\n",
    "import  seaborn as sns"
   ]
  },
  {
   "cell_type": "markdown",
   "metadata": {},
   "source": [
    "## Define the PINN network"
   ]
  },
  {
   "cell_type": "code",
   "execution_count": 2,
   "metadata": {},
   "outputs": [],
   "source": [
    "class PINN(nn.Module):\n",
    "    def __init__(self):\n",
    "        super(PINN, self).__init__()\n",
    "        self.net = nn.Sequential(\n",
    "            nn.Linear(3, 64),\n",
    "            nn.Tanh(),\n",
    "            nn.Linear(64, 64),\n",
    "            nn.Tanh(),\n",
    "            nn.Linear(64, 1)\n",
    "        )\n",
    "\n",
    "    def forward(self, x):\n",
    "        return self.net(x)"
   ]
  },
  {
   "cell_type": "markdown",
   "metadata": {},
   "source": [
    "## Creating of data points (IC, BC)"
   ]
  },
  {
   "cell_type": "code",
   "execution_count": 3,
   "metadata": {},
   "outputs": [],
   "source": [
    "def initial_condition(x, y):\n",
    "    return torch.sin(torch.pi * x) * torch.sin(torch.pi * y)\n",
    "\n",
    "def boundary_condition(x, y, t, custom_value):\n",
    "    return torch.full_like(x, custom_value)"
   ]
  },
  {
   "cell_type": "code",
   "execution_count": 4,
   "metadata": {},
   "outputs": [],
   "source": [
    "# generate collocation points\n",
    "def generate_training_data(num_points):\n",
    "    x = torch.rand(num_points, 1, requires_grad=True)  # torch.rand generate values interval [0, 1]\n",
    "    y = torch.rand(num_points, 1, requires_grad=True)\n",
    "    t = torch.rand(num_points, 1, requires_grad=True)\n",
    "    return x, y, t"
   ]
  },
  {
   "cell_type": "code",
   "execution_count": 7,
   "metadata": {},
   "outputs": [],
   "source": [
    "# generate boundary points\n",
    "def generate_boundary_points(num_points):\n",
    "    x_boundary = torch.tensor([0.0, 1.0]).repeat(num_points // 2) # generate BC for left and right side\n",
    "    y_boundary = torch.rand(num_points) \n",
    "\n",
    "    if torch.rand(1) > 0.5:  # it can be changed to the bottom and up BC\n",
    "        x_boundary, y_boundary = y_boundary, x_boundary\n",
    "    \n",
    "    return x_boundary.view(-1, 1), y_boundary.view(-1, 1)\n",
    "\n",
    "\n",
    "def generate_boundary_training_data(num_points):\n",
    "    x_boundary, y_boundary = generate_boundary_points(num_points)\n",
    "    t = torch.rand(num_points, 1, requires_grad=True)  # ?\n",
    "\n",
    "    return x_boundary, y_boundary, t"
   ]
  },
  {
   "cell_type": "code",
   "execution_count": null,
   "metadata": {},
   "outputs": [],
   "source": [
    "def train_pinn(model, num_iterations, num_points):\n",
    "    optimizer = optim.Adam(model.parameters(), lr = 1e-3)\n",
    "\n",
    "    for iteration in range(num_iterations):\n",
    "        optimizer.zero_grad()\n",
    "\n",
    "        x, y, t = generate_training_data(num_points)\n",
    "\n",
    "        x_b, y_b, t_b = generate_boundary_training_data(num_points)\n",
    "\n",
    "        t_initial = torch.zeros_like(t)\n",
    "        u_initial = initial_condition(x, y)\n",
    "\n",
    "        custom_value = 0\n",
    "        u_boundary_x = boundary_condition(x_b, y_b, t_b, custom_value)\n",
    "        u_boundary_y = boundary_condition(y_b, x_b, t_b, custom_value)\n",
    "        \n",
    "\n",
    "        \n",
    "\n"
   ]
  },
  {
   "cell_type": "code",
   "execution_count": 6,
   "metadata": {},
   "outputs": [
    {
     "data": {
      "text/plain": [
       "tensor([0., 1., 0., 1., 0., 1., 0., 1., 0., 1.])"
      ]
     },
     "execution_count": 6,
     "metadata": {},
     "output_type": "execute_result"
    }
   ],
   "source": [
    "a = torch.tensor([0.0, 1.0]).repeat(10 // 2)\n",
    "a"
   ]
  },
  {
   "cell_type": "code",
   "execution_count": null,
   "metadata": {},
   "outputs": [],
   "source": [
    "# def generate_boundary_points(num_points):\n",
    "#     # Points on vertical boundaries x = 0 and x = 1\n",
    "#     num_points_per_side = num_points // 4\n",
    "    \n",
    "#     x_left = torch.zeros(num_points_per_side)\n",
    "#     y_left = torch.rand(num_points_per_side)\n",
    "    \n",
    "#     x_right = torch.ones(num_points_per_side)\n",
    "#     y_right = torch.rand(num_points_per_side)\n",
    "    \n",
    "#     # Points on horizontal boundaries y = 0 and y = 1\n",
    "#     y_bottom = torch.zeros(num_points_per_side)\n",
    "#     x_bottom = torch.rand(num_points_per_side)\n",
    "    \n",
    "#     y_top = torch.ones(num_points_per_side)\n",
    "#     x_top = torch.rand(num_points_per_side)\n",
    "    \n",
    "#     # Combine all boundary points\n",
    "#     x_boundary = torch.cat((x_left, x_right, x_bottom, x_top))\n",
    "#     y_boundary = torch.cat((y_left, y_right, y_bottom, y_top))\n",
    "    \n",
    "#     return x_boundary.view(-1, 1), y_boundary.view(-1, 1)\n",
    "\n",
    "# # Example usage\n",
    "# num_points = 100\n",
    "# x_boundary, y_boundary = generate_boundary_points(num_points)\n",
    "# print(x_boundary, y_boundary)"
   ]
  }
 ],
 "metadata": {
  "kernelspec": {
   "display_name": "env",
   "language": "python",
   "name": "python3"
  },
  "language_info": {
   "codemirror_mode": {
    "name": "ipython",
    "version": 3
   },
   "file_extension": ".py",
   "mimetype": "text/x-python",
   "name": "python",
   "nbconvert_exporter": "python",
   "pygments_lexer": "ipython3",
   "version": "3.10.11"
  }
 },
 "nbformat": 4,
 "nbformat_minor": 2
}
